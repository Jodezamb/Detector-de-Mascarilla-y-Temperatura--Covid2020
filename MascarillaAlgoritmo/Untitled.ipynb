{
 "cells": [
  {
   "cell_type": "code",
   "execution_count": 1,
   "metadata": {},
   "outputs": [],
   "source": [
    "#!/usr/bin/env python\n",
    "# coding: utf-8"
   ]
  },
  {
   "cell_type": "code",
   "execution_count": 7,
   "metadata": {},
   "outputs": [
    {
     "name": "stdout",
     "output_type": "stream",
     "text": [
      "Requirement already satisfied: opencv-python in /home/kevjlope/anaconda3/lib/python3.8/site-packages (4.5.1.48)\n",
      "Requirement already satisfied: numpy>=1.17.3 in /home/kevjlope/anaconda3/lib/python3.8/site-packages (from opencv-python) (1.18.5)\n",
      "Requirement already satisfied: matplotlib in /home/kevjlope/anaconda3/lib/python3.8/site-packages (3.3.2)\n",
      "Requirement already satisfied: pillow>=6.2.0 in /home/kevjlope/anaconda3/lib/python3.8/site-packages (from matplotlib) (8.0.1)\n",
      "Requirement already satisfied: kiwisolver>=1.0.1 in /home/kevjlope/anaconda3/lib/python3.8/site-packages (from matplotlib) (1.3.0)\n",
      "Requirement already satisfied: numpy>=1.15 in /home/kevjlope/anaconda3/lib/python3.8/site-packages (from matplotlib) (1.18.5)\n",
      "Requirement already satisfied: certifi>=2020.06.20 in /home/kevjlope/anaconda3/lib/python3.8/site-packages (from matplotlib) (2020.6.20)\n",
      "Requirement already satisfied: python-dateutil>=2.1 in /home/kevjlope/anaconda3/lib/python3.8/site-packages (from matplotlib) (2.8.1)\n",
      "Requirement already satisfied: cycler>=0.10 in /home/kevjlope/anaconda3/lib/python3.8/site-packages (from matplotlib) (0.10.0)\n",
      "Requirement already satisfied: pyparsing!=2.0.4,!=2.1.2,!=2.1.6,>=2.0.3 in /home/kevjlope/anaconda3/lib/python3.8/site-packages (from matplotlib) (2.4.7)\n",
      "Requirement already satisfied: six>=1.5 in /home/kevjlope/anaconda3/lib/python3.8/site-packages (from python-dateutil>=2.1->matplotlib) (1.15.0)\n",
      "Requirement already satisfied: tensorflow==2.2.1 in /home/kevjlope/anaconda3/lib/python3.8/site-packages (2.2.1)\n",
      "Requirement already satisfied: gast==0.3.3 in /home/kevjlope/anaconda3/lib/python3.8/site-packages (from tensorflow==2.2.1) (0.3.3)\n",
      "Requirement already satisfied: tensorboard<2.3.0,>=2.2.0 in /home/kevjlope/anaconda3/lib/python3.8/site-packages (from tensorflow==2.2.1) (2.2.2)\n",
      "Requirement already satisfied: h5py<2.11.0,>=2.10.0 in /home/kevjlope/anaconda3/lib/python3.8/site-packages (from tensorflow==2.2.1) (2.10.0)\n",
      "Requirement already satisfied: tensorflow-estimator<2.3.0,>=2.2.0 in /home/kevjlope/anaconda3/lib/python3.8/site-packages (from tensorflow==2.2.1) (2.2.0)\n",
      "Requirement already satisfied: protobuf>=3.8.0 in /home/kevjlope/anaconda3/lib/python3.8/site-packages (from tensorflow==2.2.1) (3.14.0)\n",
      "Requirement already satisfied: six>=1.12.0 in /home/kevjlope/anaconda3/lib/python3.8/site-packages (from tensorflow==2.2.1) (1.15.0)\n",
      "Requirement already satisfied: termcolor>=1.1.0 in /home/kevjlope/anaconda3/lib/python3.8/site-packages (from tensorflow==2.2.1) (1.1.0)\n",
      "Requirement already satisfied: opt-einsum>=2.3.2 in /home/kevjlope/anaconda3/lib/python3.8/site-packages (from tensorflow==2.2.1) (3.3.0)\n",
      "Requirement already satisfied: absl-py>=0.7.0 in /home/kevjlope/anaconda3/lib/python3.8/site-packages (from tensorflow==2.2.1) (0.11.0)\n",
      "Requirement already satisfied: keras-preprocessing>=1.1.0 in /home/kevjlope/anaconda3/lib/python3.8/site-packages (from tensorflow==2.2.1) (1.1.2)\n",
      "Requirement already satisfied: grpcio>=1.8.6 in /home/kevjlope/anaconda3/lib/python3.8/site-packages (from tensorflow==2.2.1) (1.34.0)\n",
      "Requirement already satisfied: wheel>=0.26; python_version >= \"3\" in /home/kevjlope/anaconda3/lib/python3.8/site-packages (from tensorflow==2.2.1) (0.35.1)\n",
      "Requirement already satisfied: astunparse==1.6.3 in /home/kevjlope/anaconda3/lib/python3.8/site-packages (from tensorflow==2.2.1) (1.6.3)\n",
      "Requirement already satisfied: google-pasta>=0.1.8 in /home/kevjlope/anaconda3/lib/python3.8/site-packages (from tensorflow==2.2.1) (0.2.0)\n",
      "Requirement already satisfied: wrapt>=1.11.1 in /home/kevjlope/anaconda3/lib/python3.8/site-packages (from tensorflow==2.2.1) (1.11.2)\n",
      "Requirement already satisfied: numpy<1.19.0,>=1.16.0 in /home/kevjlope/anaconda3/lib/python3.8/site-packages (from tensorflow==2.2.1) (1.18.5)\n",
      "Requirement already satisfied: google-auth-oauthlib<0.5,>=0.4.1 in /home/kevjlope/anaconda3/lib/python3.8/site-packages (from tensorboard<2.3.0,>=2.2.0->tensorflow==2.2.1) (0.4.2)\n",
      "Requirement already satisfied: setuptools>=41.0.0 in /home/kevjlope/anaconda3/lib/python3.8/site-packages (from tensorboard<2.3.0,>=2.2.0->tensorflow==2.2.1) (50.3.1.post20201107)\n",
      "Requirement already satisfied: google-auth<2,>=1.6.3 in /home/kevjlope/anaconda3/lib/python3.8/site-packages (from tensorboard<2.3.0,>=2.2.0->tensorflow==2.2.1) (1.24.0)\n",
      "Requirement already satisfied: requests<3,>=2.21.0 in /home/kevjlope/anaconda3/lib/python3.8/site-packages (from tensorboard<2.3.0,>=2.2.0->tensorflow==2.2.1) (2.24.0)\n",
      "Requirement already satisfied: tensorboard-plugin-wit>=1.6.0 in /home/kevjlope/anaconda3/lib/python3.8/site-packages (from tensorboard<2.3.0,>=2.2.0->tensorflow==2.2.1) (1.7.0)\n",
      "Requirement already satisfied: werkzeug>=0.11.15 in /home/kevjlope/anaconda3/lib/python3.8/site-packages (from tensorboard<2.3.0,>=2.2.0->tensorflow==2.2.1) (1.0.1)\n",
      "Requirement already satisfied: markdown>=2.6.8 in /home/kevjlope/anaconda3/lib/python3.8/site-packages (from tensorboard<2.3.0,>=2.2.0->tensorflow==2.2.1) (3.3.3)\n",
      "Requirement already satisfied: requests-oauthlib>=0.7.0 in /home/kevjlope/anaconda3/lib/python3.8/site-packages (from google-auth-oauthlib<0.5,>=0.4.1->tensorboard<2.3.0,>=2.2.0->tensorflow==2.2.1) (1.3.0)\n",
      "Requirement already satisfied: cachetools<5.0,>=2.0.0 in /home/kevjlope/anaconda3/lib/python3.8/site-packages (from google-auth<2,>=1.6.3->tensorboard<2.3.0,>=2.2.0->tensorflow==2.2.1) (4.2.0)\n",
      "Requirement already satisfied: rsa<5,>=3.1.4; python_version >= \"3.6\" in /home/kevjlope/anaconda3/lib/python3.8/site-packages (from google-auth<2,>=1.6.3->tensorboard<2.3.0,>=2.2.0->tensorflow==2.2.1) (4.6)\n",
      "Requirement already satisfied: pyasn1-modules>=0.2.1 in /home/kevjlope/anaconda3/lib/python3.8/site-packages (from google-auth<2,>=1.6.3->tensorboard<2.3.0,>=2.2.0->tensorflow==2.2.1) (0.2.8)\n",
      "Requirement already satisfied: chardet<4,>=3.0.2 in /home/kevjlope/anaconda3/lib/python3.8/site-packages (from requests<3,>=2.21.0->tensorboard<2.3.0,>=2.2.0->tensorflow==2.2.1) (3.0.4)\n",
      "Requirement already satisfied: certifi>=2017.4.17 in /home/kevjlope/anaconda3/lib/python3.8/site-packages (from requests<3,>=2.21.0->tensorboard<2.3.0,>=2.2.0->tensorflow==2.2.1) (2020.6.20)\n",
      "Requirement already satisfied: urllib3!=1.25.0,!=1.25.1,<1.26,>=1.21.1 in /home/kevjlope/anaconda3/lib/python3.8/site-packages (from requests<3,>=2.21.0->tensorboard<2.3.0,>=2.2.0->tensorflow==2.2.1) (1.25.11)\n",
      "Requirement already satisfied: idna<3,>=2.5 in /home/kevjlope/anaconda3/lib/python3.8/site-packages (from requests<3,>=2.21.0->tensorboard<2.3.0,>=2.2.0->tensorflow==2.2.1) (2.10)\n",
      "Requirement already satisfied: oauthlib>=3.0.0 in /home/kevjlope/anaconda3/lib/python3.8/site-packages (from requests-oauthlib>=0.7.0->google-auth-oauthlib<0.5,>=0.4.1->tensorboard<2.3.0,>=2.2.0->tensorflow==2.2.1) (3.1.0)\n",
      "Requirement already satisfied: pyasn1>=0.1.3 in /home/kevjlope/anaconda3/lib/python3.8/site-packages (from rsa<5,>=3.1.4; python_version >= \"3.6\"->google-auth<2,>=1.6.3->tensorboard<2.3.0,>=2.2.0->tensorflow==2.2.1) (0.4.8)\n",
      "Requirement already satisfied: pillow in /home/kevjlope/anaconda3/lib/python3.8/site-packages (8.0.1)\n"
     ]
    }
   ],
   "source": [
    "#Instalando librerias \n",
    "get_ipython().system('pip  install opencv-python')\n",
    "get_ipython().system('pip install matplotlib')\n",
    "get_ipython().system('pip install tensorflow==2.2.1')\n",
    "get_ipython().system('pip install pillow')"
   ]
  },
  {
   "cell_type": "code",
   "execution_count": 4,
   "metadata": {},
   "outputs": [],
   "source": [
    "import os\n",
    "import tensorflow as tf\n",
    "import numpy as np\n",
    "import cv2\n",
    "import matplotlib.pyplot as plt"
   ]
  },
  {
   "cell_type": "code",
   "execution_count": 5,
   "metadata": {},
   "outputs": [
    {
     "name": "stdout",
     "output_type": "stream",
     "text": [
      "2.2.1\n"
     ]
    }
   ],
   "source": [
    "print(tf.__version__)"
   ]
  },
  {
   "cell_type": "code",
   "execution_count": 8,
   "metadata": {},
   "outputs": [],
   "source": [
    "direc_entrenamiento='/home/kevjlope/Desktop/KevinLopez/Detector-de-Mascarilla-y-Temperatura--Covid2020/observations-master/experiements/data/'\n",
    "direc_entre_mask=os.path.join(direc_entrenamiento,\"with_mask\")\n",
    "direc_entre_No_mask=os.path.join(direc_entrenamiento,\"without_mask\")"
   ]
  },
  {
   "cell_type": "code",
   "execution_count": 9,
   "metadata": {},
   "outputs": [
    {
     "name": "stdout",
     "output_type": "stream",
     "text": [
      "total imagenes con mascarillas 690\n",
      "total imagenes sin mascarillas 686\n"
     ]
    }
   ],
   "source": [
    "print('total imagenes con mascarillas', len(os.listdir(direc_entre_mask)))\n",
    "print('total imagenes sin mascarillas', len(os.listdir(direc_entre_No_mask)))"
   ]
  },
  {
   "cell_type": "code",
   "execution_count": 10,
   "metadata": {},
   "outputs": [],
   "source": [
    "#Modelo \n",
    "model=tf.keras.models.Sequential([\n",
    "    tf.keras.layers.Conv2D(16, (3,3), activation='relu', input_shape=(150,150,3)),\n",
    "    tf.keras.layers.MaxPooling2D(2,2),\n",
    "    tf.keras.layers.Conv2D(32, (3,3),activation='relu'),\n",
    "    tf.keras.layers.MaxPooling2D(2,2),\n",
    "    tf.keras.layers.Conv2D(64, (3,3),activation='relu'),\n",
    "    tf.keras.layers.MaxPooling2D(2,2),\n",
    "    tf.keras.layers.Flatten(),\n",
    "    tf.keras.layers.Dense(512,activation='relu'),\n",
    "    #Clasificacion binaria\n",
    "    tf.keras.layers.Dense(1,activation= 'sigmoid')\n",
    "    \n",
    "])\n"
   ]
  },
  {
   "cell_type": "code",
   "execution_count": 11,
   "metadata": {},
   "outputs": [],
   "source": [
    "#\n",
    "from tensorflow.keras.optimizers import Adam\n",
    "model.compile(optimizer=Adam(lr=0.001),\n",
    "              loss='binary_crossentropy',\n",
    "              metrics=['accuracy'])"
   ]
  },
  {
   "cell_type": "code",
   "execution_count": 12,
   "metadata": {},
   "outputs": [
    {
     "name": "stdout",
     "output_type": "stream",
     "text": [
      "Found 1101 images belonging to 2 classes.\n",
      "Found 275 images belonging to 2 classes.\n"
     ]
    }
   ],
   "source": [
    "from tensorflow.keras.preprocessing.image import ImageDataGenerator\n",
    "img_height =150\n",
    "img_width=150\n",
    "batch_size=10\n",
    "train_datagen=ImageDataGenerator(rescale=1./255,\n",
    "                                shear_range=0.2,\n",
    "                                zoom_range=0.2,\n",
    "                                horizontal_flip=True,\n",
    "                                validation_split=0.2) #set validation split\n",
    "\n",
    "train_generator =train_datagen.flow_from_directory(\n",
    "direc_entrenamiento,\n",
    "target_size=(img_height,img_width),\n",
    "batch_size=batch_size,\n",
    "class_mode='binary',\n",
    "subset='training') #set as trainign data\n",
    "\n",
    "validation_generator = train_datagen.flow_from_directory(\n",
    "    direc_entrenamiento, #same directory as a training data\n",
    "    target_size=(img_height,img_width),\n",
    "    batch_size=batch_size,\n",
    "    class_mode='binary',\n",
    "    subset='validation' #data set para al validacion\n",
    ")\n",
    "\n"
   ]
  },
  {
   "cell_type": "code",
   "execution_count": 13,
   "metadata": {},
   "outputs": [
    {
     "name": "stdout",
     "output_type": "stream",
     "text": [
      "WARNING:tensorflow:From <ipython-input-13-adc22b392edb>:2: Model.fit_generator (from tensorflow.python.keras.engine.training) is deprecated and will be removed in a future version.\n",
      "Instructions for updating:\n",
      "Please use Model.fit, which supports generators.\n",
      "Epoch 1/10\n",
      "110/110 [==============================] - 36s 330ms/step - loss: 0.2442 - accuracy: 0.8928 - val_loss: 0.1247 - val_accuracy: 0.9630\n",
      "Epoch 2/10\n",
      "110/110 [==============================] - 29s 263ms/step - loss: 0.0973 - accuracy: 0.9707 - val_loss: 0.0937 - val_accuracy: 0.9630\n",
      "Epoch 3/10\n",
      "110/110 [==============================] - 31s 284ms/step - loss: 0.1365 - accuracy: 0.9633 - val_loss: 0.0680 - val_accuracy: 0.9778\n",
      "Epoch 4/10\n",
      "110/110 [==============================] - 38s 346ms/step - loss: 0.0414 - accuracy: 0.9835 - val_loss: 0.0672 - val_accuracy: 0.9704\n",
      "Epoch 5/10\n",
      "110/110 [==============================] - 38s 350ms/step - loss: 0.0348 - accuracy: 0.9881 - val_loss: 0.0757 - val_accuracy: 0.9815\n",
      "Epoch 6/10\n",
      "110/110 [==============================] - 26s 236ms/step - loss: 0.0259 - accuracy: 0.9908 - val_loss: 0.0908 - val_accuracy: 0.9852\n",
      "Epoch 7/10\n",
      "110/110 [==============================] - 26s 234ms/step - loss: 0.0636 - accuracy: 0.9826 - val_loss: 0.1090 - val_accuracy: 0.9667\n",
      "Epoch 8/10\n",
      "110/110 [==============================] - 26s 236ms/step - loss: 0.0411 - accuracy: 0.9899 - val_loss: 0.0551 - val_accuracy: 0.9815\n",
      "Epoch 9/10\n",
      "110/110 [==============================] - 26s 234ms/step - loss: 0.0136 - accuracy: 0.9963 - val_loss: 0.0631 - val_accuracy: 0.9852\n",
      "Epoch 10/10\n",
      "110/110 [==============================] - 26s 236ms/step - loss: 0.0343 - accuracy: 0.9890 - val_loss: 0.1936 - val_accuracy: 0.9593\n"
     ]
    }
   ],
   "source": [
    "nb_epochs =10\n",
    "history =model.fit_generator(\n",
    "    train_generator,\n",
    "    steps_per_epoch = train_generator.samples // batch_size,\n",
    "    validation_data = validation_generator,\n",
    "    validation_steps=validation_generator.samples // batch_size,\n",
    "    epochs = nb_epochs)\n",
    "\n"
   ]
  },
  {
   "cell_type": "code",
   "execution_count": 14,
   "metadata": {},
   "outputs": [
    {
     "data": {
      "image/png": "[encoded data removed]",
      "text/plain": [
       "<Figure size 432x288 with 1 Axes>"
      ]
     },
     "metadata": {
      "needs_background": "light"
     },
     "output_type": "display_data"
    },
    {
     "data": {
      "image/png": "[encoded data removed]",
      "text/plain": [
       "<Figure size 432x288 with 1 Axes>"
      ]
     },
     "metadata": {
      "needs_background": "light"
     },
     "output_type": "display_data"
    }
   ],
   "source": [
    "\n",
    "import matplotlib.pyplot as plt\n",
    "acc = history.history['accuracy']\n",
    "loss =history.history['loss']\n",
    "\n",
    "#Graficar la excatitud  vs las perdidas\n",
    "epochs =range(len(acc))\n",
    "\n",
    "#envio de datos a graficar \n",
    "plt.plot(epochs, acc, 'b', label='Exactitud del entrenamiento comunitarias mascarilla ')\n",
    "plt.title('Exactitud del entrenamiento- P comunitarias')\n",
    "\n",
    "plt.figure()\n",
    "\n",
    "plt.plot(epochs, loss, 'b', label ='Error del training- P Comunitarias')\n",
    "plt.title('Error de entrenamiento - P comunitarias')\n",
    "plt.legend()\n",
    "\n",
    "plt.show()"
   ]
  },
  {
   "cell_type": "code",
   "execution_count": 19,
   "metadata": {},
   "outputs": [],
   "source": [
    "from tensorflow.keras.preprocessing import image\n",
    "from PIL import Image"
   ]
  },
  {
   "cell_type": "code",
   "execution_count": 21,
   "metadata": {},
   "outputs": [],
   "source": [
    "vc = cv2.VideoCapture(0) \n",
    "plt.ion()\n",
    "if vc.isOpened(): \n",
    "    is_capturing, frame = vc.read()\n",
    "    frame = cv2.cvtColor(frame, cv2.COLOR_BGR2RGB)    \n",
    "    webcam_preview = plt.imshow(frame)    \n",
    "else:\n",
    "    is_capturing = False\n",
    "\n",
    "while is_capturing:\n",
    "    try:    \n",
    "        is_capturing, frame = vc.read()\n",
    "        frame = cv2.cvtColor(frame, cv2.COLOR_BGR2RGB)    \n",
    "        frame_res = cv2.resize(frame, dsize=(150, 150), interpolation=cv2.INTER_CUBIC) #Lee el mismo size que espera el modelo y te ahorra reshapes\n",
    "        x=image.img_to_array(frame_res)\n",
    "        x=np.expand_dims(x, axis=0)\n",
    "        images = np.vstack([x])\n",
    "        classes = model.predict(images, batch_size=10)\n",
    "        if classes[0]>0:\n",
    "            print(\"No lleva Mascarilla - P. Comunitarias\")\n",
    "        else:\n",
    "            print(\"Si lleva Macarilla - P.Comunitarias\")\n",
    "        webcam_preview = plt.imshow(frame)\n",
    "        try:    \n",
    "            plt.pause(1)\n",
    "        except Exception:\n",
    "            pass\n",
    "    except KeyboardInterrupt:\n",
    "        vc.release()"
   ]
  },
  {
   "cell_type": "code",
   "execution_count": null,
   "metadata": {},
   "outputs": [],
   "source": []
  }
 ],
 "metadata": {
  "kernelspec": {
   "display_name": "Python 3",
   "language": "python",
   "name": "python3"
  },
  "language_info": {
   "codemirror_mode": {
    "name": "ipython",
    "version": 3
   },
   "file_extension": ".py",
   "mimetype": "text/x-python",
   "name": "python",
   "nbconvert_exporter": "python",
   "pygments_lexer": "ipython3",
   "version": "3.8.5"
  }
 },
 "nbformat": 4,
 "nbformat_minor": 4
}
